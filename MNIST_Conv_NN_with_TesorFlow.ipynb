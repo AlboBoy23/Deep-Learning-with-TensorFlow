{
  "nbformat": 4,
  "nbformat_minor": 0,
  "metadata": {
    "colab": {
      "provenance": [],
      "toc_visible": true,
      "gpuType": "T4"
    },
    "kernelspec": {
      "name": "python3",
      "display_name": "Python 3"
    },
    "language_info": {
      "name": "python"
    },
    "accelerator": "GPU",
    "gpuClass": "standard"
  },
  "cells": [
    {
      "cell_type": "markdown",
      "source": [
        "# Load and Preprocess the data"
      ],
      "metadata": {
        "id": "M9MwptyWtebX"
      }
    },
    {
      "cell_type": "code",
      "execution_count": null,
      "metadata": {
        "colab": {
          "base_uri": "https://localhost:8080/"
        },
        "id": "HaNWuUXDlzC7",
        "outputId": "b742250e-b1ed-46ff-fa9e-8ca300f920d1"
      },
      "outputs": [
        {
          "output_type": "stream",
          "name": "stdout",
          "text": [
            "Downloading data from https://storage.googleapis.com/tensorflow/tf-keras-datasets/mnist.npz\n",
            "11490434/11490434 [==============================] - 0s 0us/step\n"
          ]
        }
      ],
      "source": [
        "# Import th MNIST Dataset\n",
        "import tensorflow as tf\n",
        "(x_train, y_train), (x_test, y_test) = tf.keras.datasets.mnist.load_data(path=\"mnist.npz\")"
      ]
    },
    {
      "cell_type": "markdown",
      "source": [
        "## Normalize the Data"
      ],
      "metadata": {
        "id": "a0grdd23tp3e"
      }
    },
    {
      "cell_type": "code",
      "source": [
        "x_train.shape, x_test.shape"
      ],
      "metadata": {
        "colab": {
          "base_uri": "https://localhost:8080/"
        },
        "id": "vu2_toPmn3ff",
        "outputId": "2bf88261-9435-4a4f-f579-662cb6c950d7"
      },
      "execution_count": null,
      "outputs": [
        {
          "output_type": "execute_result",
          "data": {
            "text/plain": [
              "((60000, 28, 28), (10000, 28, 28))"
            ]
          },
          "metadata": {},
          "execution_count": 3
        }
      ]
    },
    {
      "cell_type": "code",
      "source": [
        "tf.reduce_max(x_train) # Returns maximum pixel value of all image"
      ],
      "metadata": {
        "colab": {
          "base_uri": "https://localhost:8080/"
        },
        "id": "QNqpOxI4ny6l",
        "outputId": "8f3da3af-1fe6-4b96-9f51-c41d2c591b29"
      },
      "execution_count": null,
      "outputs": [
        {
          "output_type": "execute_result",
          "data": {
            "text/plain": [
              "<tf.Tensor: shape=(), dtype=uint8, numpy=255>"
            ]
          },
          "metadata": {},
          "execution_count": 4
        }
      ]
    },
    {
      "cell_type": "code",
      "source": [
        "x_train, x_test = x_train/255, x_test/255"
      ],
      "metadata": {
        "id": "n6jlklvBr-Rb"
      },
      "execution_count": null,
      "outputs": []
    },
    {
      "cell_type": "code",
      "source": [
        "tf.reduce_max(x_train)"
      ],
      "metadata": {
        "colab": {
          "base_uri": "https://localhost:8080/"
        },
        "id": "rgpS7pzGtJ7Z",
        "outputId": "0772791e-34c5-4ca2-cf89-fceb52b3592f"
      },
      "execution_count": null,
      "outputs": [
        {
          "output_type": "execute_result",
          "data": {
            "text/plain": [
              "<tf.Tensor: shape=(), dtype=float64, numpy=1.0>"
            ]
          },
          "metadata": {},
          "execution_count": 12
        }
      ]
    },
    {
      "cell_type": "markdown",
      "source": [
        "## Visualize the Data"
      ],
      "metadata": {
        "id": "Yehl9NFhtMOL"
      }
    },
    {
      "cell_type": "code",
      "source": [
        "import matplotlib.pyplot as plt\n",
        "plt.imshow(x_train[0], cmap=\"binary\")\n",
        "plt.axis(False)"
      ],
      "metadata": {
        "colab": {
          "base_uri": "https://localhost:8080/",
          "height": 423
        },
        "id": "hVND-TZEtyIz",
        "outputId": "0007ca69-e523-48da-98d7-5a4dc00e42d4"
      },
      "execution_count": null,
      "outputs": [
        {
          "output_type": "execute_result",
          "data": {
            "text/plain": [
              "(-0.5, 27.5, 27.5, -0.5)"
            ]
          },
          "metadata": {},
          "execution_count": 13
        },
        {
          "output_type": "display_data",
          "data": {
            "text/plain": [
              "<Figure size 640x480 with 1 Axes>"
            ],
            "image/png": "[encoded data removed]"
          },
          "metadata": {}
        }
      ]
    },
    {
      "cell_type": "markdown",
      "source": [
        "# Building Models"
      ],
      "metadata": {
        "id": "5BfaKZ0qw1gX"
      }
    },
    {
      "cell_type": "markdown",
      "source": [
        "### A non-CNN but feasable model on MNIST"
      ],
      "metadata": {
        "id": "_Xv3YjM9w_da"
      }
    },
    {
      "cell_type": "code",
      "source": [
        "# set the seed\n",
        "tf.random.set_seed(42)\n",
        "\n",
        "# Create the model\n",
        "model_1 = tf.keras.Sequential([\n",
        "    tf.keras.layers.Flatten(input_shape=(28, 28)),\n",
        "    tf.keras.layers.Dense(4, activation='relu'),\n",
        "    tf.keras.layers.Dense(4, activation='relu'),\n",
        "    tf.keras.layers.Dense(10, activation='softmax'),\n",
        "])\n",
        "\n",
        "# Compile the model\n",
        "model_1.compile(loss=tf.keras.losses.SparseCategoricalCrossentropy(),\n",
        "                 optimizer=tf.keras.optimizers.Adam(),\n",
        "                 metrics=['accuracy'])\n",
        "\n",
        "history_1 = model_1.fit(x_train, y_train, epochs=20, validation_data=(x_test, y_test))"
      ],
      "metadata": {
        "colab": {
          "base_uri": "https://localhost:8080/"
        },
        "id": "MewjCZh-ww95",
        "outputId": "0f0c619f-6729-4d54-cffd-b8cd9362a2e6"
      },
      "execution_count": null,
      "outputs": [
        {
          "output_type": "stream",
          "name": "stdout",
          "text": [
            "Epoch 1/20\n",
            "1875/1875 [==============================] - 7s 3ms/step - loss: 1.1394 - accuracy: 0.6035 - val_loss: 0.8196 - val_accuracy: 0.7470\n",
            "Epoch 2/20\n",
            "1875/1875 [==============================] - 6s 3ms/step - loss: 0.7950 - accuracy: 0.7513 - val_loss: 0.7675 - val_accuracy: 0.7608\n",
            "Epoch 3/20\n",
            "1875/1875 [==============================] - 5s 3ms/step - loss: 0.7415 - accuracy: 0.7718 - val_loss: 0.7274 - val_accuracy: 0.7833\n",
            "Epoch 4/20\n",
            "1875/1875 [==============================] - 6s 3ms/step - loss: 0.7097 - accuracy: 0.7865 - val_loss: 0.7133 - val_accuracy: 0.7813\n",
            "Epoch 5/20\n",
            "1875/1875 [==============================] - 5s 3ms/step - loss: 0.6874 - accuracy: 0.7950 - val_loss: 0.6965 - val_accuracy: 0.7902\n",
            "Epoch 6/20\n",
            "1875/1875 [==============================] - 6s 3ms/step - loss: 0.6718 - accuracy: 0.7996 - val_loss: 0.6869 - val_accuracy: 0.7935\n",
            "Epoch 7/20\n",
            "1875/1875 [==============================] - 5s 3ms/step - loss: 0.6600 - accuracy: 0.8033 - val_loss: 0.6960 - val_accuracy: 0.7872\n",
            "Epoch 8/20\n",
            "1875/1875 [==============================] - 6s 3ms/step - loss: 0.6526 - accuracy: 0.8051 - val_loss: 0.6692 - val_accuracy: 0.7999\n",
            "Epoch 9/20\n",
            "1875/1875 [==============================] - 5s 3ms/step - loss: 0.6443 - accuracy: 0.8086 - val_loss: 0.6689 - val_accuracy: 0.7980\n",
            "Epoch 10/20\n",
            "1875/1875 [==============================] - 6s 3ms/step - loss: 0.6388 - accuracy: 0.8097 - val_loss: 0.6663 - val_accuracy: 0.8023\n",
            "Epoch 11/20\n",
            "1875/1875 [==============================] - 5s 3ms/step - loss: 0.6340 - accuracy: 0.8105 - val_loss: 0.6653 - val_accuracy: 0.8015\n",
            "Epoch 12/20\n",
            "1875/1875 [==============================] - 6s 3ms/step - loss: 0.6300 - accuracy: 0.8134 - val_loss: 0.6591 - val_accuracy: 0.8045\n",
            "Epoch 13/20\n",
            "1875/1875 [==============================] - 5s 3ms/step - loss: 0.6262 - accuracy: 0.8140 - val_loss: 0.6578 - val_accuracy: 0.8046\n",
            "Epoch 14/20\n",
            "1875/1875 [==============================] - 6s 3ms/step - loss: 0.6230 - accuracy: 0.8158 - val_loss: 0.6491 - val_accuracy: 0.8072\n",
            "Epoch 15/20\n",
            "1875/1875 [==============================] - 5s 3ms/step - loss: 0.6209 - accuracy: 0.8164 - val_loss: 0.6516 - val_accuracy: 0.8050\n",
            "Epoch 16/20\n",
            "1875/1875 [==============================] - 6s 3ms/step - loss: 0.6179 - accuracy: 0.8165 - val_loss: 0.6499 - val_accuracy: 0.8039\n",
            "Epoch 17/20\n",
            "1875/1875 [==============================] - 5s 3ms/step - loss: 0.6157 - accuracy: 0.8180 - val_loss: 0.6493 - val_accuracy: 0.8044\n",
            "Epoch 18/20\n",
            "1875/1875 [==============================] - 6s 3ms/step - loss: 0.6129 - accuracy: 0.8189 - val_loss: 0.6511 - val_accuracy: 0.8092\n",
            "Epoch 19/20\n",
            "1875/1875 [==============================] - 5s 3ms/step - loss: 0.6110 - accuracy: 0.8195 - val_loss: 0.6439 - val_accuracy: 0.8080\n",
            "Epoch 20/20\n",
            "1875/1875 [==============================] - 6s 3ms/step - loss: 0.6088 - accuracy: 0.8194 - val_loss: 0.6513 - val_accuracy: 0.8037\n"
          ]
        }
      ]
    },
    {
      "cell_type": "code",
      "source": [
        "pred_probs = model_1.predict(x_test)"
      ],
      "metadata": {
        "colab": {
          "base_uri": "https://localhost:8080/"
        },
        "id": "KR6y6A5i1Bo5",
        "outputId": "27ee78e1-9bd3-4721-fbd4-1de35fd926cf"
      },
      "execution_count": null,
      "outputs": [
        {
          "output_type": "stream",
          "name": "stdout",
          "text": [
            "313/313 [==============================] - 1s 2ms/step\n"
          ]
        }
      ]
    },
    {
      "cell_type": "code",
      "source": [
        "preds = pred_probs.argmax(axis=1)"
      ],
      "metadata": {
        "id": "_i2_2-w42a72"
      },
      "execution_count": null,
      "outputs": []
    },
    {
      "cell_type": "code",
      "source": [
        "preds[:10], y_test[:10]"
      ],
      "metadata": {
        "colab": {
          "base_uri": "https://localhost:8080/"
        },
        "id": "F8D9X2IE143i",
        "outputId": "64d8caad-4faa-41c3-e8e2-7539c280b66f"
      },
      "execution_count": null,
      "outputs": [
        {
          "output_type": "execute_result",
          "data": {
            "text/plain": [
              "(array([7, 2, 1, 0, 4, 1, 4, 9, 4, 9]),\n",
              " array([7, 2, 1, 0, 4, 1, 4, 9, 5, 9], dtype=uint8))"
            ]
          },
          "metadata": {},
          "execution_count": 19
        }
      ]
    },
    {
      "cell_type": "code",
      "source": [
        "model_1.summary()"
      ],
      "metadata": {
        "colab": {
          "base_uri": "https://localhost:8080/"
        },
        "id": "NDgzC6o95Zg5",
        "outputId": "784d1d6c-0cf6-439b-ca04-ac829fcf8f70"
      },
      "execution_count": null,
      "outputs": [
        {
          "output_type": "stream",
          "name": "stdout",
          "text": [
            "Model: \"sequential_8\"\n",
            "_________________________________________________________________\n",
            " Layer (type)                Output Shape              Param #   \n",
            "=================================================================\n",
            " flatten_9 (Flatten)         (None, 784)               0         \n",
            "                                                                 \n",
            " dense_8 (Dense)             (None, 4)                 3140      \n",
            "                                                                 \n",
            " dense_9 (Dense)             (None, 4)                 20        \n",
            "                                                                 \n",
            " dense_10 (Dense)            (None, 10)                50        \n",
            "                                                                 \n",
            "=================================================================\n",
            "Total params: 3,210\n",
            "Trainable params: 3,210\n",
            "Non-trainable params: 0\n",
            "_________________________________________________________________\n"
          ]
        }
      ]
    },
    {
      "cell_type": "markdown",
      "source": [
        "## A CNN model"
      ],
      "metadata": {
        "id": "_4-Zrp-K1blx"
      }
    },
    {
      "cell_type": "code",
      "source": [
        "# Create the model\n",
        "model_2 = tf.keras.Sequential([\n",
        "    tf.keras.layers.Conv1D(10, 3, activation=\"relu\", input_shape=(28, 28)),\n",
        "    tf.keras.layers.Conv1D(10, 3, activation=\"relu\"),\n",
        "    tf.keras.layers.Conv1D(10, 3, activation=\"relu\"),\n",
        "    tf.keras.layers.Flatten(),\n",
        "    tf.keras.layers.Dense(10, activation=\"softmax\")\n",
        "])\n",
        "\n",
        "# Compiel the model\n",
        "model_2.compile(loss=tf.keras.losses.SparseCategoricalCrossentropy(),\n",
        "                optimizer=tf.keras.optimizers.Adam(),\n",
        "                metrics=[\"accuracy\"])\n",
        "history_2 = model_2.fit(x_train, y_train, epochs=5, validation_data=(x_test,y_test))"
      ],
      "metadata": {
        "colab": {
          "base_uri": "https://localhost:8080/"
        },
        "id": "QLAbFnUwY1Iu",
        "outputId": "1d7beb2a-520a-4a77-f0e2-d5b0599ad0df"
      },
      "execution_count": null,
      "outputs": [
        {
          "output_type": "stream",
          "name": "stdout",
          "text": [
            "Epoch 1/5\n",
            "1875/1875 [==============================] - 21s 4ms/step - loss: 0.4142 - accuracy: 0.8740 - val_loss: 0.2017 - val_accuracy: 0.9394\n",
            "Epoch 2/5\n",
            "1875/1875 [==============================] - 7s 4ms/step - loss: 0.1859 - accuracy: 0.9452 - val_loss: 0.1448 - val_accuracy: 0.9566\n",
            "Epoch 3/5\n",
            "1875/1875 [==============================] - 7s 4ms/step - loss: 0.1451 - accuracy: 0.9578 - val_loss: 0.1160 - val_accuracy: 0.9643\n",
            "Epoch 4/5\n",
            "1875/1875 [==============================] - 7s 4ms/step - loss: 0.1222 - accuracy: 0.9639 - val_loss: 0.1062 - val_accuracy: 0.9680\n",
            "Epoch 5/5\n",
            "1875/1875 [==============================] - 7s 4ms/step - loss: 0.1066 - accuracy: 0.9684 - val_loss: 0.0957 - val_accuracy: 0.9701\n"
          ]
        }
      ]
    },
    {
      "cell_type": "code",
      "source": [
        "model_2.summary()"
      ],
      "metadata": {
        "colab": {
          "base_uri": "https://localhost:8080/"
        },
        "id": "thZ-1hwT5A0C",
        "outputId": "791398ba-dfb0-4ea8-80f8-5d8f7a7619a7"
      },
      "execution_count": null,
      "outputs": [
        {
          "output_type": "stream",
          "name": "stdout",
          "text": [
            "Model: \"sequential_7\"\n",
            "_________________________________________________________________\n",
            " Layer (type)                Output Shape              Param #   \n",
            "=================================================================\n",
            " conv1d (Conv1D)             (None, 26, 10)            850       \n",
            "                                                                 \n",
            " conv1d_1 (Conv1D)           (None, 24, 10)            310       \n",
            "                                                                 \n",
            " conv1d_2 (Conv1D)           (None, 22, 10)            310       \n",
            "                                                                 \n",
            " flatten_8 (Flatten)         (None, 220)               0         \n",
            "                                                                 \n",
            " dense_7 (Dense)             (None, 10)                2210      \n",
            "                                                                 \n",
            "=================================================================\n",
            "Total params: 3,680\n",
            "Trainable params: 3,680\n",
            "Non-trainable params: 0\n",
            "_________________________________________________________________\n"
          ]
        }
      ]
    },
    {
      "cell_type": "markdown",
      "source": [
        "\n",
        "A new model with maxpool layers"
      ],
      "metadata": {
        "id": "BZSOUK1kGteh"
      }
    },
    {
      "cell_type": "code",
      "source": [
        "# Create the model\n",
        "model_3 = tf.keras.Sequential([\n",
        "    tf.keras.layers.Conv1D(10, 3, activation=\"relu\", input_shape=(28, 28)),\n",
        "    tf.keras.layers.MaxPool1D(),\n",
        "    tf.keras.layers.Conv1D(10, 3, activation=\"relu\"),\n",
        "    tf.keras.layers.Conv1D(10, 3, activation=\"relu\"),\n",
        "    tf.keras.layers.Flatten(),\n",
        "    tf.keras.layers.Dense(10, activation=\"softmax\")\n",
        "])\n",
        "\n",
        "# Compiel the model\n",
        "model_3.compile(loss=tf.keras.losses.SparseCategoricalCrossentropy(),\n",
        "                optimizer=tf.keras.optimizers.Adam(),\n",
        "                metrics=[\"accuracy\"])\n",
        "history_3 = model_3.fit(x_train, y_train, epochs=5, validation_data=(x_test,y_test))"
      ],
      "metadata": {
        "colab": {
          "base_uri": "https://localhost:8080/"
        },
        "id": "ThqNE-nHE4Ej",
        "outputId": "6dca4edd-0040-4137-94e5-3783f083d01a"
      },
      "execution_count": null,
      "outputs": [
        {
          "output_type": "stream",
          "name": "stdout",
          "text": [
            "Epoch 1/5\n",
            "1875/1875 [==============================] - 10s 4ms/step - loss: 0.4350 - accuracy: 0.8659 - val_loss: 0.2069 - val_accuracy: 0.9404\n",
            "Epoch 2/5\n",
            "1875/1875 [==============================] - 7s 4ms/step - loss: 0.1874 - accuracy: 0.9437 - val_loss: 0.1471 - val_accuracy: 0.9578\n",
            "Epoch 3/5\n",
            "1875/1875 [==============================] - 7s 4ms/step - loss: 0.1452 - accuracy: 0.9564 - val_loss: 0.1126 - val_accuracy: 0.9643\n",
            "Epoch 4/5\n",
            "1875/1875 [==============================] - 7s 4ms/step - loss: 0.1209 - accuracy: 0.9628 - val_loss: 0.1004 - val_accuracy: 0.9692\n",
            "Epoch 5/5\n",
            "1875/1875 [==============================] - 7s 4ms/step - loss: 0.1059 - accuracy: 0.9675 - val_loss: 0.0899 - val_accuracy: 0.9704\n"
          ]
        }
      ]
    },
    {
      "cell_type": "code",
      "source": [
        "model_3.summary()"
      ],
      "metadata": {
        "colab": {
          "base_uri": "https://localhost:8080/"
        },
        "id": "9X6uQoOxG6bg",
        "outputId": "04176e0d-3ec1-4093-a7bf-d950e8153ff8"
      },
      "execution_count": null,
      "outputs": [
        {
          "output_type": "stream",
          "name": "stdout",
          "text": [
            "Model: \"sequential_10\"\n",
            "_________________________________________________________________\n",
            " Layer (type)                Output Shape              Param #   \n",
            "=================================================================\n",
            " conv1d_6 (Conv1D)           (None, 26, 10)            850       \n",
            "                                                                 \n",
            " conv1d_7 (Conv1D)           (None, 24, 10)            310       \n",
            "                                                                 \n",
            " max_pooling1d_1 (MaxPooling  (None, 12, 10)           0         \n",
            " 1D)                                                             \n",
            "                                                                 \n",
            " conv1d_8 (Conv1D)           (None, 10, 10)            310       \n",
            "                                                                 \n",
            " flatten_11 (Flatten)        (None, 100)               0         \n",
            "                                                                 \n",
            " dense_12 (Dense)            (None, 10)                1010      \n",
            "                                                                 \n",
            "=================================================================\n",
            "Total params: 2,480\n",
            "Trainable params: 2,480\n",
            "Non-trainable params: 0\n",
            "_________________________________________________________________\n"
          ]
        }
      ]
    },
    {
      "cell_type": "code",
      "source": [],
      "metadata": {
        "id": "RQN58fUQHVeD"
      },
      "execution_count": null,
      "outputs": []
    }
  ]
}