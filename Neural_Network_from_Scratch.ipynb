{
  "nbformat": 4,
  "nbformat_minor": 0,
  "metadata": {
    "colab": {
      "provenance": []
    },
    "kernelspec": {
      "name": "python3",
      "display_name": "Python 3"
    },
    "language_info": {
      "name": "python"
    }
  },
  "cells": [
    {
      "cell_type": "markdown",
      "source": [
        "###Import the Data"
      ],
      "metadata": {
        "id": "N-BggZ0627qc"
      }
    },
    {
      "cell_type": "code",
      "source": [
        "!git clone https://github.com/mnielsen/neural-networks-and-deep-learning.git"
      ],
      "metadata": {
        "colab": {
          "base_uri": "https://localhost:8080/"
        },
        "id": "RBNkMNNXbu7Q",
        "outputId": "6baf2363-1262-4581-a2d5-caa077925bfd"
      },
      "execution_count": null,
      "outputs": [
        {
          "output_type": "stream",
          "name": "stdout",
          "text": [
            "Cloning into 'neural-networks-and-deep-learning'...\n",
            "remote: Enumerating objects: 1163, done.\u001b[K\n",
            "remote: Total 1163 (delta 0), reused 0 (delta 0), pack-reused 1163\u001b[K\n",
            "Receiving objects: 100% (1163/1163), 20.42 MiB | 26.92 MiB/s, done.\n",
            "Resolving deltas: 100% (577/577), done.\n"
          ]
        }
      ]
    },
    {
      "cell_type": "code",
      "source": [
        "import gzip\n",
        "import pickle\n",
        "\n",
        "def load_data():\n",
        "  with gzip.open('/content/neural-networks-and-deep-learning/data/mnist.pkl.gz', 'rb') as f:\n",
        "    u = pickle._Unpickler( f )\n",
        "    u.encoding = 'latin1'\n",
        "    train, val, test = u.load()\n",
        "  return (train, val, test)"
      ],
      "metadata": {
        "id": "ZpzQSU_ZbzDM"
      },
      "execution_count": null,
      "outputs": []
    },
    {
      "cell_type": "markdown",
      "source": [
        "### Build Neural Network"
      ],
      "metadata": {
        "id": "4knbBy51EpjC"
      }
    },
    {
      "cell_type": "code",
      "execution_count": null,
      "metadata": {
        "id": "DnRBTYq1HPHB"
      },
      "outputs": [],
      "source": [
        "# %load network.py\n",
        "\n",
        "\"\"\"\n",
        "network.py\n",
        "~~~~~~~~~~\n",
        "IT WORKS\n",
        "\n",
        "A module to implement the stochastic gradient descent learning\n",
        "algorithm for a feedforward neural network.  Gradients are calculated\n",
        "using backpropagation.  Note that I have focused on making the code\n",
        "simple, easily readable, and easily modifiable.  It is not optimized,\n",
        "and omits many desirable features.\n",
        "\"\"\"\n",
        "\n",
        "#### Libraries\n",
        "# Standard library\n",
        "import random\n",
        "\n",
        "# Third-party libraries\n",
        "import numpy as np\n",
        "\n",
        "class Network(object):\n",
        "\n",
        "    def __init__(self, sizes):\n",
        "        \"\"\"The list ``sizes`` contains the number of neurons in the\n",
        "        respective layers of the network.  For example, if the list\n",
        "        was [2, 3, 1] then it would be a three-layer network, with the\n",
        "        first layer containing 2 neurons, the second layer 3 neurons,\n",
        "        and the third layer 1 neuron.  The biases and weights for the\n",
        "        network are initialized randomly, using a Gaussian\n",
        "        distribution with mean 0, and variance 1.  Note that the first\n",
        "        layer is assumed to be an input layer, and by convention we\n",
        "        won't set any biases for those neurons, since biases are only\n",
        "        ever used in computing the outputs from later layers.\"\"\"\n",
        "        self.num_layers = len(sizes)\n",
        "        self.sizes = sizes\n",
        "        self.biases = [np.random.randn(y, 1) for y in sizes[1:]]\n",
        "        self.weights = [np.random.randn(y, x)\n",
        "                        for x, y in zip(sizes[:-1], sizes[1:])]\n",
        "\n",
        "    def feedforward(self, a):\n",
        "        \"\"\"Return the output of the network if ``a`` is input.\"\"\"\n",
        "        for b, w in zip(self.biases, self.weights):\n",
        "            a = sigmoid(np.dot(w, a)+b)\n",
        "        return a\n",
        "\n",
        "    def SGD(self, training_data, epochs, mini_batch_size, eta,\n",
        "            test_data=None):\n",
        "        \"\"\"Train the neural network using mini-batch stochastic\n",
        "        gradient descent.  The ``training_data`` is a list of tuples\n",
        "        ``(x, y)`` representing the training inputs and the desired\n",
        "        outputs.  The other non-optional parameters are\n",
        "        self-explanatory.  If ``test_data`` is provided then the\n",
        "        network will be evaluated against the test data after each\n",
        "        epoch, and partial progress printed out.  This is useful for\n",
        "        tracking progress, but slows things down substantially.\"\"\"\n",
        "\n",
        "        training_data = list(training_data)\n",
        "        n = len(training_data)\n",
        "\n",
        "        if test_data:\n",
        "            test_data = list(test_data)\n",
        "            n_test = len(test_data)\n",
        "\n",
        "        for j in range(epochs):\n",
        "            random.shuffle(training_data)\n",
        "            mini_batches = [\n",
        "                training_data[k:k+mini_batch_size]\n",
        "                for k in range(0, n, mini_batch_size)]\n",
        "            for mini_batch in mini_batches:\n",
        "                self.update_mini_batch(mini_batch, eta)\n",
        "            if test_data:\n",
        "                print(\"Epoch {} : {} / {}\".format(j,self.evaluate(test_data),n_test))\n",
        "            else:\n",
        "                print(\"Epoch {} complete\".format(j))\n",
        "\n",
        "    def update_mini_batch(self, mini_batch, eta):\n",
        "        \"\"\"Update the network's weights and biases by applying\n",
        "        gradient descent using backpropagation to a single mini batch.\n",
        "        The ``mini_batch`` is a list of tuples ``(x, y)``, and ``eta``\n",
        "        is the learning rate.\"\"\"\n",
        "        nabla_b = [np.zeros(b.shape) for b in self.biases]\n",
        "        nabla_w = [np.zeros(w.shape) for w in self.weights]\n",
        "        for x, y in mini_batch:\n",
        "            delta_nabla_b, delta_nabla_w = self.backprop(x, y)\n",
        "            nabla_b = [nb+dnb for nb, dnb in zip(nabla_b, delta_nabla_b)]\n",
        "            nabla_w = [nw+dnw for nw, dnw in zip(nabla_w, delta_nabla_w)]\n",
        "        self.weights = [w-(eta/len(mini_batch))*nw\n",
        "                        for w, nw in zip(self.weights, nabla_w)]\n",
        "        self.biases = [b-(eta/len(mini_batch))*nb\n",
        "                       for b, nb in zip(self.biases, nabla_b)]\n",
        "\n",
        "    def backprop(self, x, y):\n",
        "        \"\"\"Return a tuple ``(nabla_b, nabla_w)`` representing the\n",
        "        gradient for the cost function C_x.  ``nabla_b`` and\n",
        "        ``nabla_w`` are layer-by-layer lists of numpy arrays, similar\n",
        "        to ``self.biases`` and ``self.weights``.\"\"\"\n",
        "        nabla_b = [np.zeros(b.shape) for b in self.biases]\n",
        "        nabla_w = [np.zeros(w.shape) for w in self.weights]\n",
        "        # feedforward\n",
        "        activation = x\n",
        "        activations = [x] # list to store all the activations, layer by layer\n",
        "        zs = [] # list to store all the z vectors, layer by layer\n",
        "        for b, w in zip(self.biases, self.weights):\n",
        "            z = np.dot(w, activation)+b\n",
        "            zs.append(z)\n",
        "            activation = sigmoid(z)\n",
        "            activations.append(activation)\n",
        "        # backward pass\n",
        "        delta = self.cost_derivative(activations[-1], y) * \\\n",
        "            sigmoid_prime(zs[-1])\n",
        "        nabla_b[-1] = delta\n",
        "        nabla_w[-1] = np.dot(delta, activations[-2].transpose())\n",
        "        # Note that the variable l in the loop below is used a little\n",
        "        # differently to the notation in Chapter 2 of the book.  Here,\n",
        "        # l = 1 means the last layer of neurons, l = 2 is the\n",
        "        # second-last layer, and so on.  It's a renumbering of the\n",
        "        # scheme in the book, used here to take advantage of the fact\n",
        "        # that Python can use negative indices in lists.\n",
        "        for l in range(2, self.num_layers):\n",
        "            z = zs[-l]\n",
        "            sp = sigmoid_prime(z)\n",
        "            delta = np.dot(self.weights[-l+1].transpose(), delta) * sp\n",
        "            nabla_b[-l] = delta\n",
        "            nabla_w[-l] = np.dot(delta, activations[-l-1].transpose())\n",
        "        return (nabla_b, nabla_w)\n",
        "\n",
        "    def evaluate(self, test_data):\n",
        "        \"\"\"Return the number of test inputs for which the neural\n",
        "        network outputs the correct result. Note that the neural\n",
        "        network's output is assumed to be the index of whichever\n",
        "        neuron in the final layer has the highest activation.\"\"\"\n",
        "        test_results = [(np.argmax(self.feedforward(x)), y)\n",
        "                        for (x, y) in test_data]\n",
        "        return sum(int(x == y) for (x, y) in test_results)\n",
        "\n",
        "    def cost_derivative(self, output_activations, y):\n",
        "        \"\"\"Return the vector of partial derivatives \\partial C_x /\n",
        "        \\partial a for the output activations.\"\"\"\n",
        "        return (output_activations-y)\n",
        "\n",
        "#### Miscellaneous functions\n",
        "def sigmoid(z):\n",
        "    \"\"\"The sigmoid function.\"\"\"\n",
        "    return 1.0/(1.0+np.exp(-z))\n",
        "\n",
        "def sigmoid_prime(z):\n",
        "    \"\"\"Derivative of the sigmoid function.\"\"\"\n",
        "    return sigmoid(z)*(1-sigmoid(z))"
      ]
    },
    {
      "cell_type": "code",
      "source": [
        "def load_data_wrapper():\n",
        "  \"\"\"Return a tuple containing ‘‘(training_data , validation_data ,\n",
        "  test_data)‘‘. Based on ‘‘load_data ‘‘, but the format is more\n",
        "  convenient for use in our implementation of neural networks.\n",
        "  In particular , ‘‘training_data ‘‘ is a list containing 50 ,000\n",
        "  2-tuples ‘‘(x, y)‘‘. ‘‘x‘‘ is a 784-dimensional numpy.ndarray\n",
        "  containing the input image. ‘‘y‘‘ is a 10-dimensional\n",
        "  numpy.ndarray representing the unit vector corresponding to the\n",
        "  correct digit for ‘‘x‘‘.\n",
        "  ‘‘validation_data ‘‘ and ‘‘test_data ‘‘ are lists containing 10 ,000\n",
        "  2-tuples ‘‘(x, y)‘‘. In each case , ‘‘x‘‘ is a 784-dimensional\n",
        "  numpy.ndarry containing the input image , and ‘‘y‘‘ is the\n",
        "  corresponding classification , i.e., the digit values (integers)\n",
        "  corresponding to ‘‘x‘‘.\n",
        "  Obviously , this means we’re using slightly different formats for\n",
        "  the training data and the validation / test data. These formats\n",
        "  turn out to be the most convenient for use in our neural network\n",
        "  code.\"\"\"\n",
        "  tr_d , va_d , te_d = load_data()\n",
        "  training_inputs = [np.reshape(x, (784 , 1)) for x in tr_d [0]]\n",
        "  training_results = [ vectorized_result (y) for y in tr_d [1]]\n",
        "  training_data = zip(training_inputs , training_results )\n",
        "  validation_inputs = [np.reshape(x, (784 , 1)) for x in va_d [0]]\n",
        "  validation_data = zip( validation_inputs , va_d [1])\n",
        "  test_inputs = [np.reshape(x, (784 , 1)) for x in te_d [0]]\n",
        "  test_data = zip(test_inputs , te_d [1])\n",
        "  return (training_data , validation_data , test_data )\n",
        "\n",
        "def vectorized_result (j):\n",
        "  \"\"\"Return a 10-dimensional unit vector with a 1.0 in the jth\n",
        "  position and zeroes elsewhere. This is used to convert a digit\n",
        "  (0...9) into a corresponding desired output from the neural\n",
        "  network.\"\"\"\n",
        "  e = np.zeros ((10 , 1))\n",
        "  e[j] = 1.0\n",
        "  return e\n"
      ],
      "metadata": {
        "id": "EmYF3cI0uM9S"
      },
      "execution_count": null,
      "outputs": []
    },
    {
      "cell_type": "code",
      "source": [
        "train, val, test = load_data_wrapper()"
      ],
      "metadata": {
        "id": "1DCnNMJgvzcL"
      },
      "execution_count": null,
      "outputs": []
    },
    {
      "cell_type": "code",
      "source": [
        "len(train[0])"
      ],
      "metadata": {
        "colab": {
          "base_uri": "https://localhost:8080/"
        },
        "id": "c3U5LY3v8x5R",
        "outputId": "9062c432-62d4-4e18-e9fe-94e2f3428964"
      },
      "execution_count": null,
      "outputs": [
        {
          "output_type": "execute_result",
          "data": {
            "text/plain": [
              "50000"
            ]
          },
          "metadata": {},
          "execution_count": 48
        }
      ]
    },
    {
      "cell_type": "code",
      "source": [
        "net = Network([784, 30, 10])"
      ],
      "metadata": {
        "id": "VBBsXgSF9XuJ"
      },
      "execution_count": null,
      "outputs": []
    },
    {
      "cell_type": "markdown",
      "source": [],
      "metadata": {
        "id": "JOqJbftWJwBu"
      }
    },
    {
      "cell_type": "code",
      "source": [
        "net.SGD(train, 30, 10, 3.0, test_data=test)"
      ],
      "metadata": {
        "colab": {
          "base_uri": "https://localhost:8080/"
        },
        "id": "ggPS2oM1ABQb",
        "outputId": "f72a8060-f1c5-4ad1-b928-6a8cb7193edd"
      },
      "execution_count": null,
      "outputs": [
        {
          "output_type": "stream",
          "name": "stdout",
          "text": [
            "Epoch 0 : 8003 / 10000\n",
            "Epoch 1 : 8167 / 10000\n",
            "Epoch 2 : 8225 / 10000\n",
            "Epoch 3 : 8243 / 10000\n",
            "Epoch 4 : 8277 / 10000\n",
            "Epoch 5 : 8239 / 10000\n",
            "Epoch 6 : 8340 / 10000\n",
            "Epoch 7 : 9434 / 10000\n",
            "Epoch 8 : 9447 / 10000\n",
            "Epoch 9 : 9452 / 10000\n",
            "Epoch 10 : 9494 / 10000\n",
            "Epoch 11 : 9475 / 10000\n",
            "Epoch 12 : 9486 / 10000\n",
            "Epoch 13 : 9486 / 10000\n",
            "Epoch 14 : 9502 / 10000\n",
            "Epoch 15 : 9486 / 10000\n",
            "Epoch 16 : 9490 / 10000\n",
            "Epoch 17 : 9484 / 10000\n",
            "Epoch 18 : 9526 / 10000\n",
            "Epoch 19 : 9506 / 10000\n",
            "Epoch 20 : 9512 / 10000\n",
            "Epoch 21 : 9520 / 10000\n",
            "Epoch 22 : 9512 / 10000\n",
            "Epoch 23 : 9531 / 10000\n",
            "Epoch 24 : 9508 / 10000\n",
            "Epoch 25 : 9524 / 10000\n",
            "Epoch 26 : 9506 / 10000\n",
            "Epoch 27 : 9541 / 10000\n",
            "Epoch 28 : 9520 / 10000\n",
            "Epoch 29 : 9507 / 10000\n"
          ]
        }
      ]
    },
    {
      "cell_type": "code",
      "source": [],
      "metadata": {
        "id": "F30QTPYeGVwC"
      },
      "execution_count": null,
      "outputs": []
    }
  ]
}